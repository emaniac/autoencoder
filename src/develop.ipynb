{
 "cells": [
  {
   "cell_type": "code",
   "execution_count": null,
   "metadata": {},
   "outputs": [],
   "source": [
    "%load_ext autoreload\n",
    "%autoreload 2\n",
    "\n",
    "import matplotlib.pyplot as plt\n",
    "import numpy as np\n",
    "\n",
    "from data import get_train_data, get_valid_data, get_test_data, v2i\n",
    "from model import Autoencoder, show_history\n",
    "\n",
    "D = 3072\n",
    "N = 100"
   ]
  },
  {
   "cell_type": "markdown",
   "metadata": {},
   "source": [
    "# Prepare the data"
   ]
  },
  {
   "cell_type": "code",
   "execution_count": null,
   "metadata": {},
   "outputs": [],
   "source": [
    "data_train = get_train_data(raw=True)\n",
    "data_valid = get_valid_data(raw=True)\n",
    "data_test = get_test_data(raw=True)"
   ]
  },
  {
   "cell_type": "markdown",
   "metadata": {},
   "source": [
    "# Create and train the model"
   ]
  },
  {
   "cell_type": "code",
   "execution_count": null,
   "metadata": {
    "scrolled": true
   },
   "outputs": [],
   "source": [
    "m = Autoencoder(N, D)\n",
    "m.compile(optimizer='adam', loss ='mean_squared_error')\n",
    "history = m.fit(x=data_train, \n",
    "                y=data_train, \n",
    "                validation_data=(data_valid, data_valid), \n",
    "                epochs=300)\n",
    "show_history(history)"
   ]
  },
  {
   "cell_type": "markdown",
   "metadata": {},
   "source": [
    "# Response of the decoder on onehot input"
   ]
  },
  {
   "cell_type": "code",
   "execution_count": null,
   "metadata": {
    "scrolled": false
   },
   "outputs": [],
   "source": [
    "encoder, decoder = m.layers\n",
    "\n",
    "plt.figure(figsize=(15, 10))\n",
    "plt.axis('off')\n",
    "\n",
    "onehot = np.diag(np.ones(N))\n",
    "ret = decoder.call(onehot).numpy()\n",
    "images = v2i(ret)\n",
    "for i in range(N):\n",
    "    plt.subplot(9, 12, i+1)\n",
    "    fig = plt.imshow(images[i])\n",
    "    fig.axes.get_xaxis().set_visible(False)\n",
    "    fig.axes.get_yaxis().set_visible(False)"
   ]
  },
  {
   "cell_type": "markdown",
   "metadata": {},
   "source": [
    "# Original image and it's encoded and decoded representation"
   ]
  },
  {
   "cell_type": "code",
   "execution_count": null,
   "metadata": {
    "scrolled": true
   },
   "outputs": [],
   "source": [
    "res = m.predict(data_train)\n",
    "plt.figure(figsize=(3, 20))\n",
    "for idx in range(10):\n",
    "    plt.subplot(10, 2, 2 * idx + 1)\n",
    "    plt.imshow(v2i(data_train[idx]))\n",
    "    plt.subplot(10, 2, 2 * idx + 2)\n",
    "    plt.imshow(v2i(res)[idx])"
   ]
  }
 ],
 "metadata": {
  "kernelspec": {
   "display_name": "Python 3",
   "language": "python",
   "name": "python3"
  },
  "language_info": {
   "codemirror_mode": {
    "name": "ipython",
    "version": 3
   },
   "file_extension": ".py",
   "mimetype": "text/x-python",
   "name": "python",
   "nbconvert_exporter": "python",
   "pygments_lexer": "ipython3",
   "version": "3.6.9"
  }
 },
 "nbformat": 4,
 "nbformat_minor": 4
}
